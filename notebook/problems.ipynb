{
 "cells": [
  {
   "cell_type": "markdown",
   "id": "d9d036c6",
   "metadata": {},
   "source": [
    "# Hypothesis testing problems"
   ]
  },
  {
   "cell_type": "markdown",
   "id": "d157c4db",
   "metadata": {},
   "source": [
    "## Exercise 1\n",
    "\n",
    "You are a nutritionist researching two different types of diets to see if there is a significant difference in weight loss after one month. You choose two random groups of people; one group follows the first diet, and the other follows the second. At the end of the month, you record the weight loss (in kg) for each person:\n",
    "\n",
    "| Diet 1 | Diet 2 |\n",
    "|:-------|:-------|\n",
    "| 2.0 | 3.0 |\n",
    "| 2.5 | 3.2 |\n",
    "| 3.0 | 3.1 |\n",
    "| 2.8 | 2.9 |\n",
    "| 2.3 | 2.8 |\n",
    "| 2.7 | 3.0 |\n",
    "| 2.5 | 3.2 |\n",
    "\n",
    "With these data, it seeks to answer the following question: Is there a significant difference in average weight loss between people who followed the first diet and those who followed the second diet?\n",
    "\n",
    "To draw conclusions, follow the points below:\n",
    "\n",
    "- State the hypothesis: null and alternative hypothesis.\n",
    "- Perform the test to test the hypothesis. You can use a Student's t-test.\n",
    "- Analyze the conclusions."
   ]
  },
  {
   "cell_type": "code",
   "execution_count": 51,
   "id": "1a5487f2",
   "metadata": {},
   "outputs": [],
   "source": [
    "import numpy as np\n",
    "import math\n",
    "import scipy.stats as st\n",
    "import pandas as pd"
   ]
  },
  {
   "cell_type": "markdown",
   "id": "2e1cc3ac",
   "metadata": {},
   "source": [
    "#### 1) STATE THE HYPOTHESIS"
   ]
  },
  {
   "cell_type": "markdown",
   "id": "d2733139",
   "metadata": {},
   "source": [
    "- Null Hypothesis (H_0): mean_1 = mean_2\n",
    "- Alternative Hypothesis (H_1): mean_1 <> mean_2"
   ]
  },
  {
   "cell_type": "markdown",
   "id": "8546cc0e",
   "metadata": {},
   "source": [
    "#### 2) CHOOSE LEVEL OF SIGNIFICANCE"
   ]
  },
  {
   "cell_type": "code",
   "execution_count": 52,
   "id": "8e0f3cf0",
   "metadata": {},
   "outputs": [],
   "source": [
    "alpha=0.05"
   ]
  },
  {
   "attachments": {
    "image.png": {
     "image/png": "[encoded data removed]"
    }
   },
   "cell_type": "markdown",
   "id": "9b43a41b",
   "metadata": {},
   "source": [
    "#### 3) DETERMINE THE TEST STATISTIC\n",
    "- Student's test ![image.png](attachment:image.png)"
   ]
  },
  {
   "cell_type": "code",
   "execution_count": 53,
   "id": "02f98480",
   "metadata": {},
   "outputs": [
    {
     "name": "stdout",
     "output_type": "stream",
     "text": [
      "0.05 0.004083270191713912\n"
     ]
    }
   ],
   "source": [
    "statistic, pvalue = st.ttest_ind(diet_1, diet_2)\n",
    "print(alpha,pvalue)"
   ]
  },
  {
   "cell_type": "markdown",
   "id": "a0a0b7a6",
   "metadata": {},
   "source": [
    "#### 4) ACCEPT OR REFUSE HYPHOTESIS"
   ]
  },
  {
   "cell_type": "code",
   "execution_count": 54,
   "id": "9184290f",
   "metadata": {},
   "outputs": [
    {
     "name": "stdout",
     "output_type": "stream",
     "text": [
      "H_0 is rejected, and H_1 is assumed certain: there is a significant difference in weight loss between the two diets.\n"
     ]
    }
   ],
   "source": [
    "if pvalue < alpha:\n",
    "    print(\"H_0 is rejected, and H_1 is assumed certain: there is a significant difference in weight loss between the two diets.\")\n",
    "else:\n",
    "    print(\"H_0 cannot be rejected\")"
   ]
  },
  {
   "cell_type": "markdown",
   "id": "f432e18e",
   "metadata": {},
   "source": [
    "## ANOVA\n",
    "\n",
    "**ANOVA** (*Analysis of Variance*) is a statistical technique used to compare the measures of two or more groups. The idea behind ANOVA is to decompose the total variability in the data into two components: between-group variability and within-group variability:\n",
    "\n",
    "- **Between-group variability**: This variability refers to the differences between the group means. If this variability is considerably larger than the within-group variability, it could be an indication that at least one of the group means is different.\n",
    "- **Within-group variability**: This variability refers to the dispersion of the data within each group. If all groups have similar variability, then any noticeable difference in group means could be considered significant.\n",
    "\n",
    "Hypotheses in ANOVA typically include:\n",
    "\n",
    "- **Null hypothesis** ($H₀$): The means of all groups are equal.\n",
    "- **Alternative hypothesis** ($H₁$): At least one of the group means is different.\n",
    "\n",
    "If the ANOVA test result is significant (e.g., a p-value less than a threshold such as 0.05), this suggests that at least one group mean is different."
   ]
  },
  {
   "cell_type": "markdown",
   "id": "fc5f3721",
   "metadata": {},
   "source": [
    "## Exercise 2\n",
    "\n",
    "A farmer decides to test three different types of fertilizers to determine if one is superior in terms of corn production. The farmer plants corn on 15 identical plots and uses all three fertilizers (5 plots for each type). At the end of the season, he measures the corn yield (in kg) of each plot, with the following result:\n",
    "\n",
    "| Fertilizer 1 | Fertilizer 2 | Fertilizer 3 |\n",
    "|:-------------|:-------------|:-------------|\n",
    "| 20 | 22 | 24 |\n",
    "| 21 | 21 | 23 |\n",
    "| 20 | 23 | 22 |\n",
    "| 19 | 22 | 23 |\n",
    "| 20 | 21 | 24 |\n",
    "\n",
    "With this data, he seeks to answer the following question: Is there a significant difference in average corn yield between the three types of fertilizers?\n",
    "\n",
    "To help you, follow the points below:\n",
    "\n",
    "- State the hypothesis: null and alternative hypothesis.\n",
    "- Perform the ANOVA test.\n",
    "- Analyze the conclusions.\n",
    "- If one fertilizer is better than another, how can we know it?"
   ]
  },
  {
   "cell_type": "code",
   "execution_count": 55,
   "id": "eecad0ca",
   "metadata": {},
   "outputs": [
    {
     "name": "stdout",
     "output_type": "stream",
     "text": [
      "0.05 0.000140478247931904\n",
      "H_0 is rejected, and H_1 is assumed certain: there is a significant difference between fertilizers.\n"
     ]
    }
   ],
   "source": [
    "# 1) STATE THE HYPOTHESIS\n",
    "'''\n",
    "- Null Hypothesis (H_0): mean_1 = mean_2 = mean_3\n",
    "- Alternative Hypothesis (H_1): mean_1 <> mean_2 <> mean_3\n",
    "'''\n",
    "# 2) CHOOSE LEVEL OF SIGNIFICANCE\n",
    "alpha=0.05\n",
    "\n",
    "# 3) DETERMINE THE TEST STATISTIC\n",
    "fert_1 = np.array([20,21,20,19,20])\n",
    "fert_2 = np.array([22,21,23,22,21])\n",
    "fert_3 = np.array([24,23,22,23,24])\n",
    "\n",
    "statistic, pvalue = st.f_oneway(fert_1, fert_2,fert_3)\n",
    "print(alpha,pvalue)\n",
    "\n",
    "# 4) ACCEPT OR REFUSE HYPHOTESIS\n",
    "if pvalue < alpha:\n",
    "    print(\"H_0 is rejected, and H_1 is assumed certain: there is a significant difference between fertilizers.\")\n",
    "else:\n",
    "    print(\"H_0 cannot be rejected\")"
   ]
  },
  {
   "cell_type": "markdown",
   "id": "57acdc2d",
   "metadata": {},
   "source": [
    "Multiple comparison of means is a statistical procedure used to determine which specific group means are significantly different from one another after an ANOVA has shown that at least one mean is different. These tests, also called post-hoc tests, are necessary because performing multiple pairwise t-tests would inflate the chance of making a Type I error (a false positive).\n",
    "- Tukey's Honestly Significant Difference (HSD) test: Often used when sample sizes are equal. It is good at identifying which specific pairs of means are different."
   ]
  },
  {
   "cell_type": "code",
   "execution_count": 56,
   "id": "9f0b05cb",
   "metadata": {},
   "outputs": [
    {
     "name": "stdout",
     "output_type": "stream",
     "text": [
      "        fert_1  fert_2  fert_3\n",
      "fert_1     0.0    -1.8    -3.2\n",
      "fert_2     1.8     0.0    -1.4\n",
      "fert_3     3.2     1.4     0.0\n"
     ]
    }
   ],
   "source": [
    "result = st.tukey_hsd(fert_1, fert_2,fert_3)\n",
    "df_diff=pd.DataFrame(result.statistic, \\\n",
    "            columns=[\"fert_1\",\"fert_2\",\"fert_3\"], \\\n",
    "            index=[\"fert_1\",\"fert_2\",\"fert_3\"])\n",
    "print (df_diff)"
   ]
  },
  {
   "cell_type": "markdown",
   "id": "33fdaf15",
   "metadata": {},
   "source": [
    "#### CONCLUSION\n",
    "\n",
    "According to the results from HSD test, Fertilizer 3 is the best since it gives better diff. (positive) respect to fertilizer 1 (1.8) and fertilizer 2 (3.2)."
   ]
  }
 ],
 "metadata": {
  "kernelspec": {
   "display_name": "Python 3",
   "language": "python",
   "name": "python3"
  },
  "language_info": {
   "codemirror_mode": {
    "name": "ipython",
    "version": 3
   },
   "file_extension": ".py",
   "mimetype": "text/x-python",
   "name": "python",
   "nbconvert_exporter": "python",
   "pygments_lexer": "ipython3",
   "version": "3.11.4"
  }
 },
 "nbformat": 4,
 "nbformat_minor": 5
}
